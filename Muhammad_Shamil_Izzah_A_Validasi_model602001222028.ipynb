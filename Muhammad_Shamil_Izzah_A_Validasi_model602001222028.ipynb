{
  "nbformat": 4,
  "nbformat_minor": 0,
  "metadata": {
    "colab": {
      "provenance": [],
      "gpuType": "T4",
      "authorship_tag": "ABX9TyO2wboWCZXoWeyNdwKr9U9p",
      "include_colab_link": true
    },
    "kernelspec": {
      "name": "python3",
      "display_name": "Python 3"
    },
    "language_info": {
      "name": "python"
    }
  },
  "cells": [
    {
      "cell_type": "markdown",
      "metadata": {
        "id": "view-in-github",
        "colab_type": "text"
      },
      "source": [
        "<a href=\"https://colab.research.google.com/github/MilizCom/Data-mining/blob/main/Muhammad_Shamil_Izzah_A_Validasi_model602001222028.ipynb\" target=\"_parent\"><img src=\"https://colab.research.google.com/assets/colab-badge.svg\" alt=\"Open In Colab\"/></a>"
      ]
    },
    {
      "cell_type": "code",
      "execution_count": null,
      "metadata": {
        "id": "6W8UG1AHHOy0"
      },
      "outputs": [],
      "source": [
        "Aimport pandas as pd\n",
        "import numpy as np\n",
        "import matplotlib.pyplot as plt\n",
        "from sklearn.naive_bayes import GaussianNB\n",
        "from sklearn.datasets import load_wine\n",
        "from sklearn.metrics import accuracy_score\n",
        "from sklearn.model_selection import train_test_split\n"
      ]
    },
    {
      "cell_type": "code",
      "source": [
        "wine = load_wine()\n",
        "X = wine.data\n",
        "Y = wine.target\n",
        "print(wine)\n"
      ],
      "metadata": {
        "colab": {
          "base_uri": "https://localhost:8080/"
        },
        "id": "6YrP9yGSHh7Q",
        "outputId": "0fabb431-852c-465e-8a8a-ecb1b5cb1dd2"
      },
      "execution_count": null,
      "outputs": [
        {
          "output_type": "stream",
          "name": "stdout",
          "text": [
            "{'data': array([[1.423e+01, 1.710e+00, 2.430e+00, ..., 1.040e+00, 3.920e+00,\n",
            "        1.065e+03],\n",
            "       [1.320e+01, 1.780e+00, 2.140e+00, ..., 1.050e+00, 3.400e+00,\n",
            "        1.050e+03],\n",
            "       [1.316e+01, 2.360e+00, 2.670e+00, ..., 1.030e+00, 3.170e+00,\n",
            "        1.185e+03],\n",
            "       ...,\n",
            "       [1.327e+01, 4.280e+00, 2.260e+00, ..., 5.900e-01, 1.560e+00,\n",
            "        8.350e+02],\n",
            "       [1.317e+01, 2.590e+00, 2.370e+00, ..., 6.000e-01, 1.620e+00,\n",
            "        8.400e+02],\n",
            "       [1.413e+01, 4.100e+00, 2.740e+00, ..., 6.100e-01, 1.600e+00,\n",
            "        5.600e+02]]), 'target': array([0, 0, 0, 0, 0, 0, 0, 0, 0, 0, 0, 0, 0, 0, 0, 0, 0, 0, 0, 0, 0, 0,\n",
            "       0, 0, 0, 0, 0, 0, 0, 0, 0, 0, 0, 0, 0, 0, 0, 0, 0, 0, 0, 0, 0, 0,\n",
            "       0, 0, 0, 0, 0, 0, 0, 0, 0, 0, 0, 0, 0, 0, 0, 1, 1, 1, 1, 1, 1, 1,\n",
            "       1, 1, 1, 1, 1, 1, 1, 1, 1, 1, 1, 1, 1, 1, 1, 1, 1, 1, 1, 1, 1, 1,\n",
            "       1, 1, 1, 1, 1, 1, 1, 1, 1, 1, 1, 1, 1, 1, 1, 1, 1, 1, 1, 1, 1, 1,\n",
            "       1, 1, 1, 1, 1, 1, 1, 1, 1, 1, 1, 1, 1, 1, 1, 1, 1, 1, 1, 1, 2, 2,\n",
            "       2, 2, 2, 2, 2, 2, 2, 2, 2, 2, 2, 2, 2, 2, 2, 2, 2, 2, 2, 2, 2, 2,\n",
            "       2, 2, 2, 2, 2, 2, 2, 2, 2, 2, 2, 2, 2, 2, 2, 2, 2, 2, 2, 2, 2, 2,\n",
            "       2, 2]), 'frame': None, 'target_names': array(['class_0', 'class_1', 'class_2'], dtype='<U7'), 'DESCR': '.. _wine_dataset:\\n\\nWine recognition dataset\\n------------------------\\n\\n**Data Set Characteristics:**\\n\\n:Number of Instances: 178\\n:Number of Attributes: 13 numeric, predictive attributes and the class\\n:Attribute Information:\\n    - Alcohol\\n    - Malic acid\\n    - Ash\\n    - Alcalinity of ash\\n    - Magnesium\\n    - Total phenols\\n    - Flavanoids\\n    - Nonflavanoid phenols\\n    - Proanthocyanins\\n    - Color intensity\\n    - Hue\\n    - OD280/OD315 of diluted wines\\n    - Proline\\n    - class:\\n        - class_0\\n        - class_1\\n        - class_2\\n\\n:Summary Statistics:\\n\\n============================= ==== ===== ======= =====\\n                                Min   Max   Mean     SD\\n============================= ==== ===== ======= =====\\nAlcohol:                      11.0  14.8    13.0   0.8\\nMalic Acid:                   0.74  5.80    2.34  1.12\\nAsh:                          1.36  3.23    2.36  0.27\\nAlcalinity of Ash:            10.6  30.0    19.5   3.3\\nMagnesium:                    70.0 162.0    99.7  14.3\\nTotal Phenols:                0.98  3.88    2.29  0.63\\nFlavanoids:                   0.34  5.08    2.03  1.00\\nNonflavanoid Phenols:         0.13  0.66    0.36  0.12\\nProanthocyanins:              0.41  3.58    1.59  0.57\\nColour Intensity:              1.3  13.0     5.1   2.3\\nHue:                          0.48  1.71    0.96  0.23\\nOD280/OD315 of diluted wines: 1.27  4.00    2.61  0.71\\nProline:                       278  1680     746   315\\n============================= ==== ===== ======= =====\\n\\n:Missing Attribute Values: None\\n:Class Distribution: class_0 (59), class_1 (71), class_2 (48)\\n:Creator: R.A. Fisher\\n:Donor: Michael Marshall (MARSHALL%PLU@io.arc.nasa.gov)\\n:Date: July, 1988\\n\\nThis is a copy of UCI ML Wine recognition datasets.\\nhttps://archive.ics.uci.edu/ml/machine-learning-databases/wine/wine.data\\n\\nThe data is the results of a chemical analysis of wines grown in the same\\nregion in Italy by three different cultivators. There are thirteen different\\nmeasurements taken for different constituents found in the three types of\\nwine.\\n\\nOriginal Owners:\\n\\nForina, M. et al, PARVUS -\\nAn Extendible Package for Data Exploration, Classification and Correlation.\\nInstitute of Pharmaceutical and Food Analysis and Technologies,\\nVia Brigata Salerno, 16147 Genoa, Italy.\\n\\nCitation:\\n\\nLichman, M. (2013). UCI Machine Learning Repository\\n[https://archive.ics.uci.edu/ml]. Irvine, CA: University of California,\\nSchool of Information and Computer Science.\\n\\n.. dropdown:: References\\n\\n    (1) S. Aeberhard, D. Coomans and O. de Vel,\\n    Comparison of Classifiers in High Dimensional Settings,\\n    Tech. Rep. no. 92-02, (1992), Dept. of Computer Science and Dept. of\\n    Mathematics and Statistics, James Cook University of North Queensland.\\n    (Also submitted to Technometrics).\\n\\n    The data was used with many others for comparing various\\n    classifiers. The classes are separable, though only RDA\\n    has achieved 100% correct classification.\\n    (RDA : 100%, QDA 99.4%, LDA 98.9%, 1NN 96.1% (z-transformed data))\\n    (All results using the leave-one-out technique)\\n\\n    (2) S. Aeberhard, D. Coomans and O. de Vel,\\n    \"THE CLASSIFICATION PERFORMANCE OF RDA\"\\n    Tech. Rep. no. 92-01, (1992), Dept. of Computer Science and Dept. of\\n    Mathematics and Statistics, James Cook University of North Queensland.\\n    (Also submitted to Journal of Chemometrics).\\n', 'feature_names': ['alcohol', 'malic_acid', 'ash', 'alcalinity_of_ash', 'magnesium', 'total_phenols', 'flavanoids', 'nonflavanoid_phenols', 'proanthocyanins', 'color_intensity', 'hue', 'od280/od315_of_diluted_wines', 'proline']}\n"
          ]
        }
      ]
    },
    {
      "cell_type": "code",
      "source": [
        "print(\"Data\", wine.feature_names)\n",
        "print(\"Target:\", wine.target_names)\n"
      ],
      "metadata": {
        "colab": {
          "base_uri": "https://localhost:8080/"
        },
        "id": "-l1-u3TyHkFq",
        "outputId": "7b5382d5-be54-4b8d-970e-a82b044324bc"
      },
      "execution_count": null,
      "outputs": [
        {
          "output_type": "stream",
          "name": "stdout",
          "text": [
            "Data ['alcohol', 'malic_acid', 'ash', 'alcalinity_of_ash', 'magnesium', 'total_phenols', 'flavanoids', 'nonflavanoid_phenols', 'proanthocyanins', 'color_intensity', 'hue', 'od280/od315_of_diluted_wines', 'proline']\n",
            "Target: ['class_0' 'class_1' 'class_2']\n"
          ]
        }
      ]
    },
    {
      "cell_type": "code",
      "source": [
        "\n",
        "# Assuming x and Y are already defined\n",
        "X_train, X_test, y_train, y_test = train_test_split(X, y, test_size=0.2, random_state=0)\n",
        "model = GaussianNB()\n",
        "model.fit(X_train, Y_train)\n",
        "Y_pred = model.predict(X_test)\n",
        "\n",
        "# Correct spelling of accuracy_score\n",
        "accuracy = accuracy_score(Y_test, Y_pred)\n",
        "print('Accuracy:', accuracy)\n"
      ],
      "metadata": {
        "colab": {
          "base_uri": "https://localhost:8080/"
        },
        "id": "4ouALspGHlhx",
        "outputId": "58e6d3c8-bddf-4eff-8bd4-63e207cdd908"
      },
      "execution_count": null,
      "outputs": [
        {
          "output_type": "stream",
          "name": "stdout",
          "text": [
            "Accuracy: 0.9166666666666666\n"
          ]
        }
      ]
    },
    {
      "cell_type": "code",
      "source": [
        "sample = [[13.2, 1.71, 2.43, 15.6, 127, 2.8, 3.06, 0.28, 2.29, 5.64, 1.04, 3.92, 1065]]\n",
        "prediction = model.predict(sample)\n",
        "print('Prediction: ', prediction)"
      ],
      "metadata": {
        "colab": {
          "base_uri": "https://localhost:8080/"
        },
        "id": "FIRhXXxdIxk-",
        "outputId": "c8338b66-54c6-48c4-db56-f2fb4dd4316e"
      },
      "execution_count": null,
      "outputs": [
        {
          "output_type": "stream",
          "name": "stdout",
          "text": [
            "Prediction:  [0]\n"
          ]
        }
      ]
    },
    {
      "cell_type": "code",
      "source": [
        "import pandas as pd\n",
        "import numpy as np\n",
        "from sklearn.model_selection import train_test_split\n",
        "from sklearn.naive_bayes import GaussianNB\n",
        "from sklearn.metrics import accuracy_score, classification_report, confusion_matrix\n"
      ],
      "metadata": {
        "id": "QW7eGxw_JTqH"
      },
      "execution_count": null,
      "outputs": []
    },
    {
      "cell_type": "code",
      "source": [
        "df = pd.read_excel('data.xlsx')  # Gantilah dengan path ke file CSV Anda\n"
      ],
      "metadata": {
        "id": "xfR299wXOGjQ"
      },
      "execution_count": null,
      "outputs": []
    },
    {
      "cell_type": "code",
      "source": [
        "print(df.head())       # Melihat beberapa baris pertama\n",
        "print(df.info())       # Menampilkan tipe data dan jumlah data yang tersedia di tiap kolom\n",
        "print(df.describe())   # Menampilkan statistik deskriptif dataset\n"
      ],
      "metadata": {
        "colab": {
          "base_uri": "https://localhost:8080/"
        },
        "id": "BSwrbBzpOXi-",
        "outputId": "17482f86-dbb3-45f1-a212-d3b290c182d8"
      },
      "execution_count": null,
      "outputs": [
        {
          "output_type": "stream",
          "name": "stdout",
          "text": [
            "   PatientID    State     Sex GeneralHealth   AgeCategory  HeightInMeters  \\\n",
            "0          1  Alabama  Female          Fair  Age 75 to 79            1.63   \n",
            "1          2  Alabama  Female     Very good  Age 65 to 69            1.60   \n",
            "2          3  Alabama    Male     Excellent  Age 60 to 64            1.78   \n",
            "3          4  Alabama    Male     Very good  Age 70 to 74            1.78   \n",
            "4          5  Alabama  Female          Good  Age 50 to 54            1.68   \n",
            "\n",
            "   WeightInKilograms        BMI  HadHeartAttack  HadAngina  ...  \\\n",
            "0          84.820000  32.099998               0          1  ...   \n",
            "1          71.669998  27.990000               0          0  ...   \n",
            "2          71.209999  22.530001               0          0  ...   \n",
            "3          95.250000  30.129999               0          0  ...   \n",
            "4          78.019997  27.760000               0          0  ...   \n",
            "\n",
            "                             ECigaretteUsage  ChestScan  \\\n",
            "0  Never used e-cigarettes in my entire life          1   \n",
            "1  Never used e-cigarettes in my entire life          0   \n",
            "2  Never used e-cigarettes in my entire life          0   \n",
            "3  Never used e-cigarettes in my entire life          0   \n",
            "4  Never used e-cigarettes in my entire life          1   \n",
            "\n",
            "      RaceEthnicityCategory  AlcoholDrinkers  HIVTesting  FluVaxLast12  \\\n",
            "0  White only, Non-Hispanic                0           0             0   \n",
            "1  White only, Non-Hispanic                0           0             1   \n",
            "2  White only, Non-Hispanic                1           0             0   \n",
            "3  White only, Non-Hispanic                0           0             1   \n",
            "4  Black only, Non-Hispanic                0           0             1   \n",
            "\n",
            "   PneumoVaxEver                                  TetanusLast10Tdap  \\\n",
            "0              1  No, did not receive any tetanus shot in the pa...   \n",
            "1              1                                 Yes, received Tdap   \n",
            "2              0  Yes, received tetanus shot but not sure what type   \n",
            "3              1  Yes, received tetanus shot but not sure what type   \n",
            "4              0  No, did not receive any tetanus shot in the pa...   \n",
            "\n",
            "   HighRiskLastYear  CovidPos  \n",
            "0                 0         1  \n",
            "1                 0         0  \n",
            "2                 0         0  \n",
            "3                 0         0  \n",
            "4                 0         0  \n",
            "\n",
            "[5 rows x 35 columns]\n",
            "<class 'pandas.core.frame.DataFrame'>\n",
            "RangeIndex: 237630 entries, 0 to 237629\n",
            "Data columns (total 35 columns):\n",
            " #   Column                     Non-Null Count   Dtype  \n",
            "---  ------                     --------------   -----  \n",
            " 0   PatientID                  237630 non-null  int64  \n",
            " 1   State                      237630 non-null  object \n",
            " 2   Sex                        237630 non-null  object \n",
            " 3   GeneralHealth              237630 non-null  object \n",
            " 4   AgeCategory                237630 non-null  object \n",
            " 5   HeightInMeters             237630 non-null  float64\n",
            " 6   WeightInKilograms          237630 non-null  float64\n",
            " 7   BMI                        237630 non-null  float64\n",
            " 8   HadHeartAttack             237630 non-null  int64  \n",
            " 9   HadAngina                  237630 non-null  int64  \n",
            " 10  HadStroke                  237630 non-null  int64  \n",
            " 11  HadAsthma                  237630 non-null  int64  \n",
            " 12  HadSkinCancer              237630 non-null  int64  \n",
            " 13  HadCOPD                    237630 non-null  int64  \n",
            " 14  HadDepressiveDisorder      237630 non-null  int64  \n",
            " 15  HadKidneyDisease           237630 non-null  int64  \n",
            " 16  HadArthritis               237630 non-null  int64  \n",
            " 17  HadDiabetes                237630 non-null  object \n",
            " 18  DeafOrHardOfHearing        237630 non-null  int64  \n",
            " 19  BlindOrVisionDifficulty    237630 non-null  int64  \n",
            " 20  DifficultyConcentrating    237630 non-null  int64  \n",
            " 21  DifficultyWalking          237630 non-null  int64  \n",
            " 22  DifficultyDressingBathing  237630 non-null  int64  \n",
            " 23  DifficultyErrands          237630 non-null  int64  \n",
            " 24  SmokerStatus               237630 non-null  object \n",
            " 25  ECigaretteUsage            237630 non-null  object \n",
            " 26  ChestScan                  237630 non-null  int64  \n",
            " 27  RaceEthnicityCategory      237630 non-null  object \n",
            " 28  AlcoholDrinkers            237630 non-null  int64  \n",
            " 29  HIVTesting                 237630 non-null  int64  \n",
            " 30  FluVaxLast12               237630 non-null  int64  \n",
            " 31  PneumoVaxEver              237630 non-null  int64  \n",
            " 32  TetanusLast10Tdap          237630 non-null  object \n",
            " 33  HighRiskLastYear           237630 non-null  int64  \n",
            " 34  CovidPos                   237630 non-null  int64  \n",
            "dtypes: float64(3), int64(23), object(9)\n",
            "memory usage: 63.5+ MB\n",
            "None\n",
            "           PatientID  HeightInMeters  WeightInKilograms            BMI  \\\n",
            "count  237630.000000   237630.000000      237630.000000  237630.000000   \n",
            "mean   118815.500000        1.704990          83.667908      28.691602   \n",
            "std     68598.016571        0.106776          21.360982       6.528065   \n",
            "min         1.000000        0.910000          28.120001      12.020000   \n",
            "25%     59408.250000        1.630000          68.040001      24.280001   \n",
            "50%    118815.500000        1.700000          81.650002      27.459999   \n",
            "75%    178222.750000        1.780000          95.250000      31.900000   \n",
            "max    237630.000000        2.410000         292.570007      97.650002   \n",
            "\n",
            "       HadHeartAttack      HadAngina      HadStroke      HadAsthma  \\\n",
            "count   237630.000000  237630.000000  237630.000000  237630.000000   \n",
            "mean         0.055553       0.061512       0.041779       0.148517   \n",
            "std          0.229056       0.240267       0.200085       0.355612   \n",
            "min          0.000000       0.000000       0.000000       0.000000   \n",
            "25%          0.000000       0.000000       0.000000       0.000000   \n",
            "50%          0.000000       0.000000       0.000000       0.000000   \n",
            "75%          0.000000       0.000000       0.000000       0.000000   \n",
            "max          1.000000       1.000000       1.000000       1.000000   \n",
            "\n",
            "       HadSkinCancer        HadCOPD  ...  DifficultyWalking  \\\n",
            "count  237630.000000  237630.000000  ...      237630.000000   \n",
            "mean        0.085225       0.078281  ...           0.148933   \n",
            "std         0.279217       0.268614  ...           0.356023   \n",
            "min         0.000000       0.000000  ...           0.000000   \n",
            "25%         0.000000       0.000000  ...           0.000000   \n",
            "50%         0.000000       0.000000  ...           0.000000   \n",
            "75%         0.000000       0.000000  ...           0.000000   \n",
            "max         1.000000       1.000000  ...           1.000000   \n",
            "\n",
            "       DifficultyDressingBathing  DifficultyErrands      ChestScan  \\\n",
            "count              237630.000000      237630.000000  237630.000000   \n",
            "mean                    0.034524           0.067567       0.426941   \n",
            "std                     0.182572           0.251002       0.494635   \n",
            "min                     0.000000           0.000000       0.000000   \n",
            "25%                     0.000000           0.000000       0.000000   \n",
            "50%                     0.000000           0.000000       0.000000   \n",
            "75%                     0.000000           0.000000       1.000000   \n",
            "max                     1.000000           1.000000       1.000000   \n",
            "\n",
            "       AlcoholDrinkers     HIVTesting   FluVaxLast12  PneumoVaxEver  \\\n",
            "count    237630.000000  237630.000000  237630.000000  237630.000000   \n",
            "mean          0.545285       0.342697       0.531907       0.407125   \n",
            "std           0.497946       0.474612       0.498982       0.491299   \n",
            "min           0.000000       0.000000       0.000000       0.000000   \n",
            "25%           0.000000       0.000000       0.000000       0.000000   \n",
            "50%           1.000000       0.000000       1.000000       0.000000   \n",
            "75%           1.000000       1.000000       1.000000       1.000000   \n",
            "max           1.000000       1.000000       1.000000       1.000000   \n",
            "\n",
            "       HighRiskLastYear       CovidPos  \n",
            "count     237630.000000  237630.000000  \n",
            "mean           0.042823       0.295939  \n",
            "std            0.202458       0.456465  \n",
            "min            0.000000       0.000000  \n",
            "25%            0.000000       0.000000  \n",
            "50%            0.000000       0.000000  \n",
            "75%            0.000000       1.000000  \n",
            "max            1.000000       1.000000  \n",
            "\n",
            "[8 rows x 26 columns]\n"
          ]
        }
      ]
    },
    {
      "cell_type": "code",
      "source": [
        "print(df.columns)\n"
      ],
      "metadata": {
        "colab": {
          "base_uri": "https://localhost:8080/"
        },
        "id": "FiWaG56PO-r-",
        "outputId": "78f525d3-e2f1-4fee-93dd-334bc3566511"
      },
      "execution_count": null,
      "outputs": [
        {
          "output_type": "stream",
          "name": "stdout",
          "text": [
            "Index(['PatientID', 'State', 'Sex', 'GeneralHealth', 'AgeCategory',\n",
            "       'HeightInMeters', 'WeightInKilograms', 'BMI', 'HadHeartAttack',\n",
            "       'HadAngina', 'HadStroke', 'HadAsthma', 'HadSkinCancer', 'HadCOPD',\n",
            "       'HadDepressiveDisorder', 'HadKidneyDisease', 'HadArthritis',\n",
            "       'HadDiabetes', 'DeafOrHardOfHearing', 'BlindOrVisionDifficulty',\n",
            "       'DifficultyConcentrating', 'DifficultyWalking',\n",
            "       'DifficultyDressingBathing', 'DifficultyErrands', 'SmokerStatus',\n",
            "       'ECigaretteUsage', 'ChestScan', 'RaceEthnicityCategory',\n",
            "       'AlcoholDrinkers', 'HIVTesting', 'FluVaxLast12', 'PneumoVaxEver',\n",
            "       'TetanusLast10Tdap', 'HighRiskLastYear', 'CovidPos'],\n",
            "      dtype='object')\n"
          ]
        }
      ]
    },
    {
      "cell_type": "code",
      "source": [
        "# Mengonversi kolom 'SmokerStatus' menjadi numerik\n",
        "df['SmokerStatus'] = df['SmokerStatus'].map({'Never us': 0, 'Former us': 1, 'Current us': 2})\n"
      ],
      "metadata": {
        "id": "GR3bJLg_OccD"
      },
      "execution_count": null,
      "outputs": []
    },
    {
      "cell_type": "code",
      "source": [
        "# Menghapus kolom 'HadDiabetes' dari fitur dan menjadikannya kolom target\n",
        "X = df.drop('HadDiabetes', axis=1)  # Menghapus kolom 'HadDiabetes' dari fitur\n",
        "y = df['HadDiabetes']  # Kolom target\n"
      ],
      "metadata": {
        "id": "-jmz8nWkOeS4"
      },
      "execution_count": null,
      "outputs": []
    },
    {
      "cell_type": "code",
      "source": [
        "X_train, X_test, y_train, y_test = train_test_split(X, y, test_size=0.2, random_state=0)\n"
      ],
      "metadata": {
        "id": "z1sIKfP-Ogm0"
      },
      "execution_count": null,
      "outputs": []
    },
    {
      "cell_type": "code",
      "source": [
        "import pandas as pd\n",
        "from sklearn.model_selection import train_test_split\n",
        "from sklearn.naive_bayes import GaussianNB\n",
        "\n",
        "# Assuming 'df' is your DataFrame\n",
        "\n",
        "# ... (your previous code to load and preprocess data) ...\n",
        "\n",
        "# Get a list of all object (string) columns\n",
        "object_cols = df.select_dtypes(include=['object']).columns.tolist()\n",
        "\n",
        "# Perform one-hot encoding for all object columns\n",
        "# We remove 'HadDiabetes' assuming it is your target variable\n",
        "categorical_features = [col for col in object_cols if col != 'HadDiabetes']\n",
        "df = pd.get_dummies(df, columns=categorical_features, drop_first=True)\n",
        "# drop_first=True to avoid multicollinearity\n",
        "\n",
        "# Menghapus kolom 'HadDiabetes' dari fitur dan menjadikannya kolom target\n",
        "X = df.drop('HadDiabetes', axis=1)  # Menghapus kolom 'HadDiabetes' dari fitur\n",
        "y = df['HadDiabetes']  # Kolom target\n",
        "\n",
        "\n",
        "X_train, X_test, y_train, y_test = train_test_split(X, y, test_size=0.2, random_state=0)\n",
        "\n",
        "model = GaussianNB()\n",
        "model.fit(X_train, y_train)"
      ],
      "metadata": {
        "colab": {
          "base_uri": "https://localhost:8080/",
          "height": 80
        },
        "id": "zgtB6M4ZOmqO",
        "outputId": "2d84f69e-ff47-4a57-fcd7-580795f9af0a"
      },
      "execution_count": null,
      "outputs": [
        {
          "output_type": "execute_result",
          "data": {
            "text/plain": [
              "GaussianNB()"
            ],
            "text/html": [
              "<style>#sk-container-id-1 {\n",
              "  /* Definition of color scheme common for light and dark mode */\n",
              "  --sklearn-color-text: black;\n",
              "  --sklearn-color-line: gray;\n",
              "  /* Definition of color scheme for unfitted estimators */\n",
              "  --sklearn-color-unfitted-level-0: #fff5e6;\n",
              "  --sklearn-color-unfitted-level-1: #f6e4d2;\n",
              "  --sklearn-color-unfitted-level-2: #ffe0b3;\n",
              "  --sklearn-color-unfitted-level-3: chocolate;\n",
              "  /* Definition of color scheme for fitted estimators */\n",
              "  --sklearn-color-fitted-level-0: #f0f8ff;\n",
              "  --sklearn-color-fitted-level-1: #d4ebff;\n",
              "  --sklearn-color-fitted-level-2: #b3dbfd;\n",
              "  --sklearn-color-fitted-level-3: cornflowerblue;\n",
              "\n",
              "  /* Specific color for light theme */\n",
              "  --sklearn-color-text-on-default-background: var(--sg-text-color, var(--theme-code-foreground, var(--jp-content-font-color1, black)));\n",
              "  --sklearn-color-background: var(--sg-background-color, var(--theme-background, var(--jp-layout-color0, white)));\n",
              "  --sklearn-color-border-box: var(--sg-text-color, var(--theme-code-foreground, var(--jp-content-font-color1, black)));\n",
              "  --sklearn-color-icon: #696969;\n",
              "\n",
              "  @media (prefers-color-scheme: dark) {\n",
              "    /* Redefinition of color scheme for dark theme */\n",
              "    --sklearn-color-text-on-default-background: var(--sg-text-color, var(--theme-code-foreground, var(--jp-content-font-color1, white)));\n",
              "    --sklearn-color-background: var(--sg-background-color, var(--theme-background, var(--jp-layout-color0, #111)));\n",
              "    --sklearn-color-border-box: var(--sg-text-color, var(--theme-code-foreground, var(--jp-content-font-color1, white)));\n",
              "    --sklearn-color-icon: #878787;\n",
              "  }\n",
              "}\n",
              "\n",
              "#sk-container-id-1 {\n",
              "  color: var(--sklearn-color-text);\n",
              "}\n",
              "\n",
              "#sk-container-id-1 pre {\n",
              "  padding: 0;\n",
              "}\n",
              "\n",
              "#sk-container-id-1 input.sk-hidden--visually {\n",
              "  border: 0;\n",
              "  clip: rect(1px 1px 1px 1px);\n",
              "  clip: rect(1px, 1px, 1px, 1px);\n",
              "  height: 1px;\n",
              "  margin: -1px;\n",
              "  overflow: hidden;\n",
              "  padding: 0;\n",
              "  position: absolute;\n",
              "  width: 1px;\n",
              "}\n",
              "\n",
              "#sk-container-id-1 div.sk-dashed-wrapped {\n",
              "  border: 1px dashed var(--sklearn-color-line);\n",
              "  margin: 0 0.4em 0.5em 0.4em;\n",
              "  box-sizing: border-box;\n",
              "  padding-bottom: 0.4em;\n",
              "  background-color: var(--sklearn-color-background);\n",
              "}\n",
              "\n",
              "#sk-container-id-1 div.sk-container {\n",
              "  /* jupyter's `normalize.less` sets `[hidden] { display: none; }`\n",
              "     but bootstrap.min.css set `[hidden] { display: none !important; }`\n",
              "     so we also need the `!important` here to be able to override the\n",
              "     default hidden behavior on the sphinx rendered scikit-learn.org.\n",
              "     See: https://github.com/scikit-learn/scikit-learn/issues/21755 */\n",
              "  display: inline-block !important;\n",
              "  position: relative;\n",
              "}\n",
              "\n",
              "#sk-container-id-1 div.sk-text-repr-fallback {\n",
              "  display: none;\n",
              "}\n",
              "\n",
              "div.sk-parallel-item,\n",
              "div.sk-serial,\n",
              "div.sk-item {\n",
              "  /* draw centered vertical line to link estimators */\n",
              "  background-image: linear-gradient(var(--sklearn-color-text-on-default-background), var(--sklearn-color-text-on-default-background));\n",
              "  background-size: 2px 100%;\n",
              "  background-repeat: no-repeat;\n",
              "  background-position: center center;\n",
              "}\n",
              "\n",
              "/* Parallel-specific style estimator block */\n",
              "\n",
              "#sk-container-id-1 div.sk-parallel-item::after {\n",
              "  content: \"\";\n",
              "  width: 100%;\n",
              "  border-bottom: 2px solid var(--sklearn-color-text-on-default-background);\n",
              "  flex-grow: 1;\n",
              "}\n",
              "\n",
              "#sk-container-id-1 div.sk-parallel {\n",
              "  display: flex;\n",
              "  align-items: stretch;\n",
              "  justify-content: center;\n",
              "  background-color: var(--sklearn-color-background);\n",
              "  position: relative;\n",
              "}\n",
              "\n",
              "#sk-container-id-1 div.sk-parallel-item {\n",
              "  display: flex;\n",
              "  flex-direction: column;\n",
              "}\n",
              "\n",
              "#sk-container-id-1 div.sk-parallel-item:first-child::after {\n",
              "  align-self: flex-end;\n",
              "  width: 50%;\n",
              "}\n",
              "\n",
              "#sk-container-id-1 div.sk-parallel-item:last-child::after {\n",
              "  align-self: flex-start;\n",
              "  width: 50%;\n",
              "}\n",
              "\n",
              "#sk-container-id-1 div.sk-parallel-item:only-child::after {\n",
              "  width: 0;\n",
              "}\n",
              "\n",
              "/* Serial-specific style estimator block */\n",
              "\n",
              "#sk-container-id-1 div.sk-serial {\n",
              "  display: flex;\n",
              "  flex-direction: column;\n",
              "  align-items: center;\n",
              "  background-color: var(--sklearn-color-background);\n",
              "  padding-right: 1em;\n",
              "  padding-left: 1em;\n",
              "}\n",
              "\n",
              "\n",
              "/* Toggleable style: style used for estimator/Pipeline/ColumnTransformer box that is\n",
              "clickable and can be expanded/collapsed.\n",
              "- Pipeline and ColumnTransformer use this feature and define the default style\n",
              "- Estimators will overwrite some part of the style using the `sk-estimator` class\n",
              "*/\n",
              "\n",
              "/* Pipeline and ColumnTransformer style (default) */\n",
              "\n",
              "#sk-container-id-1 div.sk-toggleable {\n",
              "  /* Default theme specific background. It is overwritten whether we have a\n",
              "  specific estimator or a Pipeline/ColumnTransformer */\n",
              "  background-color: var(--sklearn-color-background);\n",
              "}\n",
              "\n",
              "/* Toggleable label */\n",
              "#sk-container-id-1 label.sk-toggleable__label {\n",
              "  cursor: pointer;\n",
              "  display: block;\n",
              "  width: 100%;\n",
              "  margin-bottom: 0;\n",
              "  padding: 0.5em;\n",
              "  box-sizing: border-box;\n",
              "  text-align: center;\n",
              "}\n",
              "\n",
              "#sk-container-id-1 label.sk-toggleable__label-arrow:before {\n",
              "  /* Arrow on the left of the label */\n",
              "  content: \"▸\";\n",
              "  float: left;\n",
              "  margin-right: 0.25em;\n",
              "  color: var(--sklearn-color-icon);\n",
              "}\n",
              "\n",
              "#sk-container-id-1 label.sk-toggleable__label-arrow:hover:before {\n",
              "  color: var(--sklearn-color-text);\n",
              "}\n",
              "\n",
              "/* Toggleable content - dropdown */\n",
              "\n",
              "#sk-container-id-1 div.sk-toggleable__content {\n",
              "  max-height: 0;\n",
              "  max-width: 0;\n",
              "  overflow: hidden;\n",
              "  text-align: left;\n",
              "  /* unfitted */\n",
              "  background-color: var(--sklearn-color-unfitted-level-0);\n",
              "}\n",
              "\n",
              "#sk-container-id-1 div.sk-toggleable__content.fitted {\n",
              "  /* fitted */\n",
              "  background-color: var(--sklearn-color-fitted-level-0);\n",
              "}\n",
              "\n",
              "#sk-container-id-1 div.sk-toggleable__content pre {\n",
              "  margin: 0.2em;\n",
              "  border-radius: 0.25em;\n",
              "  color: var(--sklearn-color-text);\n",
              "  /* unfitted */\n",
              "  background-color: var(--sklearn-color-unfitted-level-0);\n",
              "}\n",
              "\n",
              "#sk-container-id-1 div.sk-toggleable__content.fitted pre {\n",
              "  /* unfitted */\n",
              "  background-color: var(--sklearn-color-fitted-level-0);\n",
              "}\n",
              "\n",
              "#sk-container-id-1 input.sk-toggleable__control:checked~div.sk-toggleable__content {\n",
              "  /* Expand drop-down */\n",
              "  max-height: 200px;\n",
              "  max-width: 100%;\n",
              "  overflow: auto;\n",
              "}\n",
              "\n",
              "#sk-container-id-1 input.sk-toggleable__control:checked~label.sk-toggleable__label-arrow:before {\n",
              "  content: \"▾\";\n",
              "}\n",
              "\n",
              "/* Pipeline/ColumnTransformer-specific style */\n",
              "\n",
              "#sk-container-id-1 div.sk-label input.sk-toggleable__control:checked~label.sk-toggleable__label {\n",
              "  color: var(--sklearn-color-text);\n",
              "  background-color: var(--sklearn-color-unfitted-level-2);\n",
              "}\n",
              "\n",
              "#sk-container-id-1 div.sk-label.fitted input.sk-toggleable__control:checked~label.sk-toggleable__label {\n",
              "  background-color: var(--sklearn-color-fitted-level-2);\n",
              "}\n",
              "\n",
              "/* Estimator-specific style */\n",
              "\n",
              "/* Colorize estimator box */\n",
              "#sk-container-id-1 div.sk-estimator input.sk-toggleable__control:checked~label.sk-toggleable__label {\n",
              "  /* unfitted */\n",
              "  background-color: var(--sklearn-color-unfitted-level-2);\n",
              "}\n",
              "\n",
              "#sk-container-id-1 div.sk-estimator.fitted input.sk-toggleable__control:checked~label.sk-toggleable__label {\n",
              "  /* fitted */\n",
              "  background-color: var(--sklearn-color-fitted-level-2);\n",
              "}\n",
              "\n",
              "#sk-container-id-1 div.sk-label label.sk-toggleable__label,\n",
              "#sk-container-id-1 div.sk-label label {\n",
              "  /* The background is the default theme color */\n",
              "  color: var(--sklearn-color-text-on-default-background);\n",
              "}\n",
              "\n",
              "/* On hover, darken the color of the background */\n",
              "#sk-container-id-1 div.sk-label:hover label.sk-toggleable__label {\n",
              "  color: var(--sklearn-color-text);\n",
              "  background-color: var(--sklearn-color-unfitted-level-2);\n",
              "}\n",
              "\n",
              "/* Label box, darken color on hover, fitted */\n",
              "#sk-container-id-1 div.sk-label.fitted:hover label.sk-toggleable__label.fitted {\n",
              "  color: var(--sklearn-color-text);\n",
              "  background-color: var(--sklearn-color-fitted-level-2);\n",
              "}\n",
              "\n",
              "/* Estimator label */\n",
              "\n",
              "#sk-container-id-1 div.sk-label label {\n",
              "  font-family: monospace;\n",
              "  font-weight: bold;\n",
              "  display: inline-block;\n",
              "  line-height: 1.2em;\n",
              "}\n",
              "\n",
              "#sk-container-id-1 div.sk-label-container {\n",
              "  text-align: center;\n",
              "}\n",
              "\n",
              "/* Estimator-specific */\n",
              "#sk-container-id-1 div.sk-estimator {\n",
              "  font-family: monospace;\n",
              "  border: 1px dotted var(--sklearn-color-border-box);\n",
              "  border-radius: 0.25em;\n",
              "  box-sizing: border-box;\n",
              "  margin-bottom: 0.5em;\n",
              "  /* unfitted */\n",
              "  background-color: var(--sklearn-color-unfitted-level-0);\n",
              "}\n",
              "\n",
              "#sk-container-id-1 div.sk-estimator.fitted {\n",
              "  /* fitted */\n",
              "  background-color: var(--sklearn-color-fitted-level-0);\n",
              "}\n",
              "\n",
              "/* on hover */\n",
              "#sk-container-id-1 div.sk-estimator:hover {\n",
              "  /* unfitted */\n",
              "  background-color: var(--sklearn-color-unfitted-level-2);\n",
              "}\n",
              "\n",
              "#sk-container-id-1 div.sk-estimator.fitted:hover {\n",
              "  /* fitted */\n",
              "  background-color: var(--sklearn-color-fitted-level-2);\n",
              "}\n",
              "\n",
              "/* Specification for estimator info (e.g. \"i\" and \"?\") */\n",
              "\n",
              "/* Common style for \"i\" and \"?\" */\n",
              "\n",
              ".sk-estimator-doc-link,\n",
              "a:link.sk-estimator-doc-link,\n",
              "a:visited.sk-estimator-doc-link {\n",
              "  float: right;\n",
              "  font-size: smaller;\n",
              "  line-height: 1em;\n",
              "  font-family: monospace;\n",
              "  background-color: var(--sklearn-color-background);\n",
              "  border-radius: 1em;\n",
              "  height: 1em;\n",
              "  width: 1em;\n",
              "  text-decoration: none !important;\n",
              "  margin-left: 1ex;\n",
              "  /* unfitted */\n",
              "  border: var(--sklearn-color-unfitted-level-1) 1pt solid;\n",
              "  color: var(--sklearn-color-unfitted-level-1);\n",
              "}\n",
              "\n",
              ".sk-estimator-doc-link.fitted,\n",
              "a:link.sk-estimator-doc-link.fitted,\n",
              "a:visited.sk-estimator-doc-link.fitted {\n",
              "  /* fitted */\n",
              "  border: var(--sklearn-color-fitted-level-1) 1pt solid;\n",
              "  color: var(--sklearn-color-fitted-level-1);\n",
              "}\n",
              "\n",
              "/* On hover */\n",
              "div.sk-estimator:hover .sk-estimator-doc-link:hover,\n",
              ".sk-estimator-doc-link:hover,\n",
              "div.sk-label-container:hover .sk-estimator-doc-link:hover,\n",
              ".sk-estimator-doc-link:hover {\n",
              "  /* unfitted */\n",
              "  background-color: var(--sklearn-color-unfitted-level-3);\n",
              "  color: var(--sklearn-color-background);\n",
              "  text-decoration: none;\n",
              "}\n",
              "\n",
              "div.sk-estimator.fitted:hover .sk-estimator-doc-link.fitted:hover,\n",
              ".sk-estimator-doc-link.fitted:hover,\n",
              "div.sk-label-container:hover .sk-estimator-doc-link.fitted:hover,\n",
              ".sk-estimator-doc-link.fitted:hover {\n",
              "  /* fitted */\n",
              "  background-color: var(--sklearn-color-fitted-level-3);\n",
              "  color: var(--sklearn-color-background);\n",
              "  text-decoration: none;\n",
              "}\n",
              "\n",
              "/* Span, style for the box shown on hovering the info icon */\n",
              ".sk-estimator-doc-link span {\n",
              "  display: none;\n",
              "  z-index: 9999;\n",
              "  position: relative;\n",
              "  font-weight: normal;\n",
              "  right: .2ex;\n",
              "  padding: .5ex;\n",
              "  margin: .5ex;\n",
              "  width: min-content;\n",
              "  min-width: 20ex;\n",
              "  max-width: 50ex;\n",
              "  color: var(--sklearn-color-text);\n",
              "  box-shadow: 2pt 2pt 4pt #999;\n",
              "  /* unfitted */\n",
              "  background: var(--sklearn-color-unfitted-level-0);\n",
              "  border: .5pt solid var(--sklearn-color-unfitted-level-3);\n",
              "}\n",
              "\n",
              ".sk-estimator-doc-link.fitted span {\n",
              "  /* fitted */\n",
              "  background: var(--sklearn-color-fitted-level-0);\n",
              "  border: var(--sklearn-color-fitted-level-3);\n",
              "}\n",
              "\n",
              ".sk-estimator-doc-link:hover span {\n",
              "  display: block;\n",
              "}\n",
              "\n",
              "/* \"?\"-specific style due to the `<a>` HTML tag */\n",
              "\n",
              "#sk-container-id-1 a.estimator_doc_link {\n",
              "  float: right;\n",
              "  font-size: 1rem;\n",
              "  line-height: 1em;\n",
              "  font-family: monospace;\n",
              "  background-color: var(--sklearn-color-background);\n",
              "  border-radius: 1rem;\n",
              "  height: 1rem;\n",
              "  width: 1rem;\n",
              "  text-decoration: none;\n",
              "  /* unfitted */\n",
              "  color: var(--sklearn-color-unfitted-level-1);\n",
              "  border: var(--sklearn-color-unfitted-level-1) 1pt solid;\n",
              "}\n",
              "\n",
              "#sk-container-id-1 a.estimator_doc_link.fitted {\n",
              "  /* fitted */\n",
              "  border: var(--sklearn-color-fitted-level-1) 1pt solid;\n",
              "  color: var(--sklearn-color-fitted-level-1);\n",
              "}\n",
              "\n",
              "/* On hover */\n",
              "#sk-container-id-1 a.estimator_doc_link:hover {\n",
              "  /* unfitted */\n",
              "  background-color: var(--sklearn-color-unfitted-level-3);\n",
              "  color: var(--sklearn-color-background);\n",
              "  text-decoration: none;\n",
              "}\n",
              "\n",
              "#sk-container-id-1 a.estimator_doc_link.fitted:hover {\n",
              "  /* fitted */\n",
              "  background-color: var(--sklearn-color-fitted-level-3);\n",
              "}\n",
              "</style><div id=\"sk-container-id-1\" class=\"sk-top-container\"><div class=\"sk-text-repr-fallback\"><pre>GaussianNB()</pre><b>In a Jupyter environment, please rerun this cell to show the HTML representation or trust the notebook. <br />On GitHub, the HTML representation is unable to render, please try loading this page with nbviewer.org.</b></div><div class=\"sk-container\" hidden><div class=\"sk-item\"><div class=\"sk-estimator fitted sk-toggleable\"><input class=\"sk-toggleable__control sk-hidden--visually\" id=\"sk-estimator-id-1\" type=\"checkbox\" checked><label for=\"sk-estimator-id-1\" class=\"sk-toggleable__label fitted sk-toggleable__label-arrow fitted\">&nbsp;&nbsp;GaussianNB<a class=\"sk-estimator-doc-link fitted\" rel=\"noreferrer\" target=\"_blank\" href=\"https://scikit-learn.org/1.5/modules/generated/sklearn.naive_bayes.GaussianNB.html\">?<span>Documentation for GaussianNB</span></a><span class=\"sk-estimator-doc-link fitted\">i<span>Fitted</span></span></label><div class=\"sk-toggleable__content fitted\"><pre>GaussianNB()</pre></div> </div></div></div></div>"
            ]
          },
          "metadata": {},
          "execution_count": 70
        }
      ]
    },
    {
      "cell_type": "code",
      "source": [
        "y_pred = model.predict(X_test)\n",
        "\n",
        "# Menghitung akurasi\n",
        "accuracy = accuracy_score(y_test, y_pred)\n",
        "print(\"Akurasi:\", accuracy)\n",
        "\n",
        "# Menampilkan laporan klasifikasi\n",
        "print(\"Laporan Klasifikasi:\\n\", classification_report(y_test, y_pred))\n",
        "\n",
        "# Menampilkan matriks konfusi\n",
        "print(\"Matriks Konfusi:\\n\", confusion_matrix(y_test, y_pred))\n"
      ],
      "metadata": {
        "colab": {
          "base_uri": "https://localhost:8080/"
        },
        "id": "83RzqqCyOop1",
        "outputId": "236270a9-ca9d-4588-d53f-14bcc67523a7"
      },
      "execution_count": null,
      "outputs": [
        {
          "output_type": "stream",
          "name": "stdout",
          "text": [
            "Akurasi: 0.8096410385894037\n"
          ]
        },
        {
          "output_type": "stream",
          "name": "stderr",
          "text": [
            "/usr/local/lib/python3.10/dist-packages/sklearn/metrics/_classification.py:1531: UndefinedMetricWarning: Precision is ill-defined and being set to 0.0 in labels with no predicted samples. Use `zero_division` parameter to control this behavior.\n",
            "  _warn_prf(average, modifier, f\"{metric.capitalize()} is\", len(result))\n",
            "/usr/local/lib/python3.10/dist-packages/sklearn/metrics/_classification.py:1531: UndefinedMetricWarning: Precision is ill-defined and being set to 0.0 in labels with no predicted samples. Use `zero_division` parameter to control this behavior.\n",
            "  _warn_prf(average, modifier, f\"{metric.capitalize()} is\", len(result))\n",
            "/usr/local/lib/python3.10/dist-packages/sklearn/metrics/_classification.py:1531: UndefinedMetricWarning: Precision is ill-defined and being set to 0.0 in labels with no predicted samples. Use `zero_division` parameter to control this behavior.\n",
            "  _warn_prf(average, modifier, f\"{metric.capitalize()} is\", len(result))\n"
          ]
        },
        {
          "output_type": "stream",
          "name": "stdout",
          "text": [
            "Laporan Klasifikasi:\n",
            "                                          precision    recall  f1-score   support\n",
            "\n",
            "                                     No       0.84      0.96      0.89     39419\n",
            "No, pre-diabetes or borderline diabetes       0.00      0.00      0.00       980\n",
            "                                    Yes       0.29      0.11      0.16      6725\n",
            "Yes, but only during pregnancy (female)       0.00      0.00      0.00       402\n",
            "\n",
            "                               accuracy                           0.81     47526\n",
            "                              macro avg       0.28      0.27      0.26     47526\n",
            "                           weighted avg       0.74      0.81      0.76     47526\n",
            "\n",
            "Matriks Konfusi:\n",
            " [[37734     0  1685     0]\n",
            " [  878     0   102     0]\n",
            " [ 5980     0   745     0]\n",
            " [  375     0    27     0]]\n"
          ]
        }
      ]
    },
    {
      "cell_type": "code",
      "source": [
        "import pandas as pd\n",
        "from sklearn.model_selection import train_test_split\n",
        "from sklearn.naive_bayes import GaussianNB\n",
        "\n",
        "# ... (your previous code to load and preprocess data) ...\n",
        "\n",
        "# Get a list of all object (string) columns\n",
        "object_cols = df.select_dtypes(include=['object']).columns.tolist()\n",
        "\n",
        "# Perform one-hot encoding for all object columns\n",
        "# We remove 'HadDiabetes' assuming it is your target variable\n",
        "categorical_features = [col for col in object_cols if col != 'HadDiabetes']\n",
        "df = pd.get_dummies(df, columns=categorical_features, drop_first=True)\n",
        "# drop_first=True to avoid multicollinearity\n",
        "\n",
        "# Menghapus kolom 'HadDiabetes' dari fitur dan menjadikannya kolom target\n",
        "X = df.drop('HadDiabetes', axis=1)  # Menghapus kolom 'HadDiabetes' dari fitur\n",
        "y = df['HadDiabetes']  # Kolom target\n",
        "\n",
        "X_train, X_test, y_train, y_test = train_test_split(X, y, test_size=0.2, random_state=0)\n",
        "\n",
        "model = GaussianNB()\n",
        "model.fit(X_train, y_train)\n",
        "\n",
        "# Assuming your original sample data before one-hot encoding\n",
        "original_sample = [65, 1, 0, 0, 0, 160, 70, 27.3, 0, 0, 0, 0, 0, 0, 0, 0, 0, 0, 0, 0, 0, 0, 0, 0, 0, 0, 0, 0, 0, 0, 0, 0, 0, 0, 0, 0, 0, 0, 0, 0, 0, 0, 0, 0, 0, 0, 0, 0, 0, 0, 0, 0, 0, 0, 0, 0, 0, 0, 0, 0, 0, 0, 0, 0, 0, 0, 0, 0, 0, 0, 0, 0, 0, 0, 0, 0, 0, 0, 0, 0, 0, 0, 0, 0, 0, 0, 0, 0, 0, 0, 0, 0, 0, 0, 0, 0, 0, 0, 0, 0]\n",
        "\n",
        "# Create a DataFrame with the original features\n",
        "original_sample_df = pd.DataFrame([original_sample], columns=df.drop('HadDiabetes', axis=1).columns[:len(original_sample)])\n",
        "\n",
        "# Now apply the same one-hot encoding used during training\n",
        "sample_df = pd.get_dummies(original_sample_df, columns=categorical_features, drop_first=True)\n",
        "\n",
        "# Ensure sample_df has the same columns as X_train\n",
        "# Add missing columns with 0 values if any\n",
        "missing_cols = set(X_train.columns) - set(sample_df.columns)\n",
        "for col in missing_cols:\n",
        "    sample_df[col] = 0\n",
        "\n",
        "# Reorder columns to match X_train\n",
        "sample_df = sample_df[X_train.columns]\n",
        "\n",
        "\n",
        "# Now you can predict using the processed sample\n",
        "prediction = model.predict(sample_df)\n",
        "print(\"Prediksi untuk sampel baru:\", prediction)"
      ],
      "metadata": {
        "colab": {
          "base_uri": "https://localhost:8080/"
        },
        "id": "10nesDm0OrLL",
        "outputId": "d72c2851-888c-45c6-c231-d4a1e83f03f9"
      },
      "execution_count": null,
      "outputs": [
        {
          "output_type": "stream",
          "name": "stdout",
          "text": [
            "Prediksi untuk sampel baru: ['Yes']\n"
          ]
        }
      ]
    },
    {
      "cell_type": "code",
      "source": [
        "import pandas as pd\n",
        "import numpy as np\n",
        "import matplotlib.pyplot as plt\n",
        "from sklearn.naive_bayes import GaussianNB\n",
        "from sklearn.datasets import load_wine\n",
        "from sklearn.metrics import accuracy_score\n",
        "from sklearn.model_selection import train_test_split\n",
        "# Import necessary libraries for classification metrics\n",
        "from sklearn.metrics import accuracy_score, classification_report, confusion_matrix\n",
        "!pip install openpyxl\n",
        "import openpyxl\n",
        "df = pd.read_excel('Patients Data ( Used for Heart Disease Prediction ) (1).xlsx', engine='openpyxl') # Use openpyxl engine explicitly\n",
        "\n"
      ],
      "metadata": {
        "id": "AQYA494oRzkn",
        "colab": {
          "base_uri": "https://localhost:8080/"
        },
        "outputId": "504de13a-c2fe-4924-dfe0-399c6ed0a154"
      },
      "execution_count": 6,
      "outputs": [
        {
          "output_type": "stream",
          "name": "stdout",
          "text": [
            "Requirement already satisfied: openpyxl in /usr/local/lib/python3.10/dist-packages (3.1.5)\n",
            "Requirement already satisfied: et-xmlfile in /usr/local/lib/python3.10/dist-packages (from openpyxl) (2.0.0)\n"
          ]
        }
      ]
    },
    {
      "cell_type": "code",
      "source": [
        "# Preprocessing (same as before)\n",
        "df['SmokerStatus'] = df['SmokerStatus'].map({'Never us': 0, 'Former us': 1, 'Current us': 2})\n",
        "object_cols = df.select_dtypes(include=['object']).columns.tolist()\n",
        "categorical_features = [col for col in object_cols if col != 'HadDiabetes']\n",
        "df = pd.get_dummies(df, columns=categorical_features, drop_first=True)\n",
        "X = df.drop('HadDiabetes', axis=1)\n",
        "y = df['HadDiabetes']\n"
      ],
      "metadata": {
        "id": "IUKkqj3fYnas"
      },
      "execution_count": 7,
      "outputs": []
    },
    {
      "cell_type": "code",
      "source": [
        "# Comparison 1: 100 data points, 2 features\n",
        "def comparison_1():\n",
        "    # Randomly select 100 data points and 2 features\n",
        "    np.random.seed(42)  # for reproducibility\n",
        "    indices = np.random.choice(len(X), 100, replace=False)\n",
        "    X_sample = X.iloc[indices, :2]  # Selecting the first 2 columns as features\n",
        "    y_sample = y.iloc[indices]\n",
        "\n",
        "    X_train, X_test, y_train, y_test = train_test_split(X_sample, y_sample, test_size=0.2, random_state=0)\n",
        "    model = GaussianNB()\n",
        "    model.fit(X_train, y_train)\n",
        "    y_pred = model.predict(X_test)\n",
        "    accuracy = accuracy_score(y_test, y_pred)\n",
        "    print(\"Comparison 1 (100 data, 2 features): Accuracy =\", accuracy)"
      ],
      "metadata": {
        "id": "rh8Ds4FvXSXC"
      },
      "execution_count": 8,
      "outputs": []
    },
    {
      "cell_type": "code",
      "source": [
        "comparison_1()"
      ],
      "metadata": {
        "colab": {
          "base_uri": "https://localhost:8080/"
        },
        "id": "28lypNcTYWQX",
        "outputId": "a2d21e73-c033-47e0-f2e7-892d4f09c1fe"
      },
      "execution_count": 9,
      "outputs": [
        {
          "output_type": "stream",
          "name": "stdout",
          "text": [
            "Comparison 1 (100 data, 2 features): Accuracy = 0.85\n"
          ]
        }
      ]
    },
    {
      "cell_type": "code",
      "source": [
        "def comparison_2():\n",
        "    # Randomly select 150 data points and 3 features\n",
        "    np.random.seed(42)  # for reproducibility\n",
        "    indices = np.random.choice(len(X), 150, replace=False)\n",
        "    X_sample = X.iloc[indices, :3] # Selecting the first 3 columns as features\n",
        "    y_sample = y.iloc[indices]\n",
        "\n",
        "    X_train, X_test, y_train, y_test = train_test_split(X_sample, y_sample, test_size=0.2, random_state=0)\n",
        "    model = GaussianNB()\n",
        "    model.fit(X_train, y_train)\n",
        "    y_pred = model.predict(X_test)\n",
        "    accuracy = accuracy_score(y_test, y_pred)\n",
        "    print(\"Comparison 2 (150 data, 3 features): Accuracy =\", accuracy)\n"
      ],
      "metadata": {
        "id": "gUces3QtYXIW"
      },
      "execution_count": 10,
      "outputs": []
    },
    {
      "cell_type": "code",
      "source": [
        "comparison_2()"
      ],
      "metadata": {
        "colab": {
          "base_uri": "https://localhost:8080/"
        },
        "id": "Iph0d5w-ZAQi",
        "outputId": "679c5c50-6ed1-4ab8-9ce8-faa25309dd26"
      },
      "execution_count": 11,
      "outputs": [
        {
          "output_type": "stream",
          "name": "stdout",
          "text": [
            "Comparison 2 (150 data, 3 features): Accuracy = 0.7333333333333333\n"
          ]
        }
      ]
    }
  ]
}