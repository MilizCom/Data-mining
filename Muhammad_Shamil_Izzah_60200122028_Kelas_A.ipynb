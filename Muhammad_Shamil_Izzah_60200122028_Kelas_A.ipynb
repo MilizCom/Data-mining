{
  "nbformat": 4,
  "nbformat_minor": 0,
  "metadata": {
    "colab": {
      "provenance": [],
      "authorship_tag": "ABX9TyMBR3l8MnN/x7saDjn6KC12",
      "include_colab_link": true
    },
    "kernelspec": {
      "name": "python3",
      "display_name": "Python 3"
    },
    "language_info": {
      "name": "python"
    }
  },
  "cells": [
    {
      "cell_type": "markdown",
      "metadata": {
        "id": "view-in-github",
        "colab_type": "text"
      },
      "source": [
        "<a href=\"https://colab.research.google.com/github/MilizCom/Data-mining/blob/main/Muhammad_Shamil_Izzah_60200122028_Kelas_A.ipynb\" target=\"_parent\"><img src=\"https://colab.research.google.com/assets/colab-badge.svg\" alt=\"Open In Colab\"/></a>"
      ]
    },
    {
      "cell_type": "code",
      "source": [
        "import pandas as pd\n"
      ],
      "metadata": {
        "id": "lLBdCtEVARy8"
      },
      "execution_count": null,
      "outputs": []
    },
    {
      "cell_type": "code",
      "execution_count": null,
      "metadata": {
        "colab": {
          "base_uri": "https://localhost:8080/"
        },
        "id": "FRFqNFQG-HaY",
        "outputId": "fdb34fe0-7a17-4422-da3b-a9c5e707257b"
      },
      "outputs": [
        {
          "output_type": "stream",
          "name": "stdout",
          "text": [
            "    cars  passing  harga\n",
            "0    BMW        3    100\n",
            "1  Volvo        7    200\n",
            "2   Ford        2    300\n"
          ]
        }
      ],
      "source": [
        "my_data_set = {\n",
        "    'cars' : [\"BMW\",\"Volvo\",\"Ford\"],\n",
        "    'passing' : [3,7,2],\n",
        "    'harga' : [100,200,300]\n",
        "}\n",
        "my_var = pd.DataFrame(my_data_set)\n",
        "print (my_var)\n"
      ]
    },
    {
      "cell_type": "code",
      "source": [
        "df = pd.read_csv('data.csv')\n",
        "pd.set_option('display.max_rows', 10)\n",
        "print(df)\n",
        "print(df.dtypes)\n",
        "print(df.info())"
      ],
      "metadata": {
        "colab": {
          "base_uri": "https://localhost:8080/"
        },
        "id": "OHVqTC3XB_45",
        "outputId": "e469b177-a5c0-4c65-9a56-c5940eedd641"
      },
      "execution_count": null,
      "outputs": [
        {
          "output_type": "stream",
          "name": "stdout",
          "text": [
            "        day  Duration  Pulse  Maxpulse  Calories\n",
            "0      day1        60    110       130     409.1\n",
            "1      day2        60    117       145     479.0\n",
            "2      day3        60    103       135     340.0\n",
            "3      day4        45    109       175     282.4\n",
            "4      day5        45    117       148     406.0\n",
            "..      ...       ...    ...       ...       ...\n",
            "164  day165        60    105       140     290.8\n",
            "165  day166        60    110       145     300.0\n",
            "166  day167        60    115       145     310.2\n",
            "167  day168        75    120       150     320.4\n",
            "168  day169        75    125       150     330.4\n",
            "\n",
            "[169 rows x 5 columns]\n",
            "day          object\n",
            "Duration      int64\n",
            "Pulse         int64\n",
            "Maxpulse      int64\n",
            "Calories    float64\n",
            "dtype: object\n",
            "<class 'pandas.core.frame.DataFrame'>\n",
            "RangeIndex: 169 entries, 0 to 168\n",
            "Data columns (total 5 columns):\n",
            " #   Column    Non-Null Count  Dtype  \n",
            "---  ------    --------------  -----  \n",
            " 0   day       169 non-null    object \n",
            " 1   Duration  169 non-null    int64  \n",
            " 2   Pulse     169 non-null    int64  \n",
            " 3   Maxpulse  169 non-null    int64  \n",
            " 4   Calories  164 non-null    float64\n",
            "dtypes: float64(1), int64(3), object(1)\n",
            "memory usage: 6.7+ KB\n",
            "None\n"
          ]
        }
      ]
    },
    {
      "cell_type": "code",
      "source": [
        "column_type = df['day'].dtype\n",
        "df['Duration'] = df['Duration'].astype(float)\n",
        "df['Calories'] = df['Calories'].fillna(0).astype(int)\n",
        "print(column_type)\n",
        "print(df.dtypes)"
      ],
      "metadata": {
        "colab": {
          "base_uri": "https://localhost:8080/"
        },
        "id": "1H69_ItHFmGJ",
        "outputId": "ebd11bef-58c2-4e7c-d83a-368ffeb37c9e"
      },
      "execution_count": null,
      "outputs": [
        {
          "output_type": "stream",
          "name": "stdout",
          "text": [
            "object\n",
            "day          object\n",
            "Duration    float64\n",
            "Pulse         int64\n",
            "Maxpulse      int64\n",
            "Calories      int64\n",
            "dtype: object\n"
          ]
        }
      ]
    },
    {
      "cell_type": "code",
      "source": [
        "subset = df.iloc[100:115]\n",
        "print(subset)"
      ],
      "metadata": {
        "colab": {
          "base_uri": "https://localhost:8080/"
        },
        "id": "VbEaZQaRICKD",
        "outputId": "45e14894-e7dc-4e80-adef-0b0736f624a0"
      },
      "execution_count": null,
      "outputs": [
        {
          "output_type": "stream",
          "name": "stdout",
          "text": [
            "        day  Duration  Pulse  Maxpulse  Calories\n",
            "100  day101      20.0     95       112        77\n",
            "101  day102      90.0     90       110       500\n",
            "102  day103      90.0     90       100       500\n",
            "103  day104      90.0     90       100       500\n",
            "104  day105      30.0     92       108        92\n",
            "..      ...       ...    ...       ...       ...\n",
            "110  day111      60.0    102       124       325\n",
            "111  day112      45.0    107       124       275\n",
            "112  day113      15.0    124       139       124\n",
            "113  day114      45.0    100       120       225\n",
            "114  day115      60.0    108       131       367\n",
            "\n",
            "[15 rows x 5 columns]\n"
          ]
        }
      ]
    }
  ]
}